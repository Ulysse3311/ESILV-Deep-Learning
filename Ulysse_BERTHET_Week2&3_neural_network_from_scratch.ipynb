{
  "nbformat": 4,
  "nbformat_minor": 0,
  "metadata": {
    "colab": {
      "name": "Ulysse_BERTHET_Week2&3.ipynb",
      "provenance": [],
      "authorship_tag": "ABX9TyM70K77mxQe6VQyaJuZNw2M",
      "include_colab_link": true
    },
    "kernelspec": {
      "name": "python3",
      "display_name": "Python 3"
    }
  },
  "cells": [
    {
      "cell_type": "markdown",
      "metadata": {
        "id": "view-in-github",
        "colab_type": "text"
      },
      "source": [
        "<a href=\"https://colab.research.google.com/github/Ulysse3311/ESILV-Deep-Learning/blob/main/Ulysse_BERTHET_Week2%263_neural_network_from_scratch.ipynb\" target=\"_parent\"><img src=\"https://colab.research.google.com/assets/colab-badge.svg\" alt=\"Open In Colab\"/></a>"
      ]
    },
    {
      "cell_type": "markdown",
      "metadata": {
        "id": "nsC7eB08Rhfx"
      },
      "source": [
        "# **Back Propagation**"
      ]
    },
    {
      "cell_type": "code",
      "metadata": {
        "id": "ERj_A58mSHhS"
      },
      "source": [
        "import numpy as np\r\n",
        "import random"
      ],
      "execution_count": 2,
      "outputs": []
    },
    {
      "cell_type": "markdown",
      "metadata": {
        "id": "sA8v8N67T_B0"
      },
      "source": [
        "For each layer, each node has a weight, plus an additional weight\r\n",
        "(constant) for the bias such as: w1x1 + · · · wnxn + w0"
      ]
    },
    {
      "cell_type": "code",
      "metadata": {
        "id": "hVGupPTuRDBn"
      },
      "source": [
        "#1\r\n",
        "def initialize_network(n_inputs, n_hidden,n_outputs):\r\n",
        "  network=[]\r\n",
        "  # hidden layer :\r\n",
        "  hidden_layer=[{\"weights\":[random.random() for i in range(n_inputs+1)]} for i in range(n_hidden)]\r\n",
        "  network.append(hidden_layer)\r\n",
        "  # output layer :\r\n",
        "  output_layer=[{\"weights\":[random.random() for i in range(n_hidden+1)]} for i in range(n_outputs)]\r\n",
        "  network.append(output_layer)\r\n",
        "  return network "
      ],
      "execution_count": 7,
      "outputs": []
    },
    {
      "cell_type": "code",
      "metadata": {
        "colab": {
          "base_uri": "https://localhost:8080/"
        },
        "id": "Lt_4eRv8TcoU",
        "outputId": "b7ae3e5b-7962-4269-c2be-e7322f0c2699"
      },
      "source": [
        "#2\r\n",
        "random.seed(1)\r\n",
        "initialize_network(3,5,2)"
      ],
      "execution_count": 8,
      "outputs": [
        {
          "output_type": "execute_result",
          "data": {
            "text/plain": [
              "[[{'weights': [0.13436424411240122,\n",
              "    0.8474337369372327,\n",
              "    0.763774618976614,\n",
              "    0.2550690257394217]},\n",
              "  {'weights': [0.49543508709194095,\n",
              "    0.4494910647887381,\n",
              "    0.651592972722763,\n",
              "    0.7887233511355132]},\n",
              "  {'weights': [0.0938595867742349,\n",
              "    0.02834747652200631,\n",
              "    0.8357651039198697,\n",
              "    0.43276706790505337]},\n",
              "  {'weights': [0.762280082457942,\n",
              "    0.0021060533511106927,\n",
              "    0.4453871940548014,\n",
              "    0.7215400323407826]},\n",
              "  {'weights': [0.22876222127045265,\n",
              "    0.9452706955539223,\n",
              "    0.9014274576114836,\n",
              "    0.030589983033553536]}],\n",
              " [{'weights': [0.0254458609934608,\n",
              "    0.5414124727934966,\n",
              "    0.9391491627785106,\n",
              "    0.38120423768821243,\n",
              "    0.21659939713061338,\n",
              "    0.4221165755827173]},\n",
              "  {'weights': [0.029040787574867943,\n",
              "    0.22169166627303505,\n",
              "    0.43788759365057206,\n",
              "    0.49581224138185065,\n",
              "    0.23308445025757263,\n",
              "    0.2308665415409843]}]]"
            ]
          },
          "metadata": {
            "tags": []
          },
          "execution_count": 8
        }
      ]
    },
    {
      "cell_type": "markdown",
      "metadata": {
        "id": "JkOYQDfSVloa"
      },
      "source": [
        "activation = sum ( weight_i * input_i ) + bias (1)"
      ]
    },
    {
      "cell_type": "code",
      "metadata": {
        "colab": {
          "base_uri": "https://localhost:8080/"
        },
        "id": "HbzmNyfCULYF",
        "outputId": "20f47b8c-383b-4c65-fc41-5a4b0ab9e7d5"
      },
      "source": [
        "# 3 \r\n",
        "def activate(weights,inputs):\r\n",
        "  return np.dot(weights[:-1],inputs)+weights[-1]\r\n",
        "\r\n",
        "#test :\r\n",
        "w=[0.1,0.2,0.3]\r\n",
        "i=[0.4,0.5]\r\n",
        "activate(w,i)"
      ],
      "execution_count": 12,
      "outputs": [
        {
          "output_type": "execute_result",
          "data": {
            "text/plain": [
              "0.44"
            ]
          },
          "metadata": {
            "tags": []
          },
          "execution_count": 12
        }
      ]
    },
    {
      "cell_type": "code",
      "metadata": {
        "id": "zSXmOUBhUrov"
      },
      "source": [
        "# 4\r\n",
        "# sigmoid transfer function\r\n",
        "def transfer(activation):\r\n",
        "  return 1/(1+np.exp(-activation))"
      ],
      "execution_count": 20,
      "outputs": []
    },
    {
      "cell_type": "code",
      "metadata": {
        "id": "RD3No9FNUt8h"
      },
      "source": [
        "# 5 forward propagation\r\n",
        "def forward_propagate(network,row):\r\n",
        "  inputs=row\r\n",
        "  for layer in network:\r\n",
        "    new_input= []\r\n",
        "    for neuron in layer :\r\n",
        "      neuron['output']=transfer(activate(neuron[\"weights\"],inputs))\r\n",
        "      new_input.append(neuron['output'])\r\n",
        "    inputs=new_input\r\n",
        "  return inputs"
      ],
      "execution_count": 23,
      "outputs": []
    },
    {
      "cell_type": "code",
      "metadata": {
        "colab": {
          "base_uri": "https://localhost:8080/"
        },
        "id": "I428r-eUbvZ6",
        "outputId": "3ca904df-3ce4-42dc-8f6a-f397e4806117"
      },
      "source": [
        "# 6 test\r\n",
        "network=initialize_network(3,2,2) \r\n",
        "forward_propagate(network,[1,2,3])"
      ],
      "execution_count": 26,
      "outputs": [
        {
          "output_type": "execute_result",
          "data": {
            "text/plain": [
              "[0.7253575769710812, 0.9149976766467796]"
            ]
          },
          "metadata": {
            "tags": []
          },
          "execution_count": 26
        }
      ]
    },
    {
      "cell_type": "code",
      "metadata": {
        "id": "TbnoQrTUb9qL"
      },
      "source": [
        "# 7 \r\n",
        "#for the sigmoid\r\n",
        "def transfer_derivative(output):\r\n",
        "  return output*(1-output)"
      ],
      "execution_count": 27,
      "outputs": []
    },
    {
      "cell_type": "code",
      "metadata": {
        "id": "i4GZSIb1d99K"
      },
      "source": [
        "# 8 error backpropagation\r\n",
        "def backpropagate_error(network,expected):\r\n",
        "  for i in reversed(range(len(network))):\r\n",
        "    layer = network[i]\r\n",
        "    errors = []\r\n",
        "    if i!=len(network)-1: #if we are not in the last layer\r\n",
        "      for j in range(len(layer)):\r\n",
        "        error=0.0\r\n",
        "        for neuron in network[i+1]:\r\n",
        "          error+=(neuron['weights'][j]*neuron['delta'])\r\n",
        "        errors.append(error)\r\n",
        "    else :\r\n",
        "      for j in range(len(layer)):\r\n",
        "        neuron =layer[j]\r\n",
        "        errors.append(expected[j]-neuron['output'])\r\n",
        "    for j in range(len(layer)):\r\n",
        "      neuron=layer[j]\r\n",
        "      neuron['delta']=errors[j]*transfer_derivative(neuron['output'])\r\n",
        "        "
      ],
      "execution_count": 30,
      "outputs": []
    },
    {
      "cell_type": "code",
      "metadata": {
        "colab": {
          "base_uri": "https://localhost:8080/"
        },
        "id": "UBelhO_-j8h-",
        "outputId": "c711fc87-1c25-4c98-a9f3-c7353bbd875c"
      },
      "source": [
        "#9 test\r\n",
        "network=initialize_network(2,3,3)\r\n",
        "output=forward_propagate(network,[0.1,0.5])\r\n",
        "backpropagate_error(network,[0,1,0])\r\n",
        "for layer in network:\r\n",
        "  print(layer)"
      ],
      "execution_count": 33,
      "outputs": [
        {
          "output_type": "stream",
          "text": [
            "[{'weights': [0.8194141106127972, 0.962201125180818, 0.5702805702451802], 'output': 0.7564515414698978, 'delta': -0.014313042605793075}, {'weights': [0.17151709517771863, 0.8677810644349934, 0.9737752361596916], 'output': 0.8060925342215671, 'delta': -0.007679019939650503}, {'weights': [0.7040231423300713, 0.5088737460778905, 0.37796883434360806], 'output': 0.668810052412592, 'delta': -0.028064925553771623}]\n",
            "[{'weights': [0.34693088456262167, 0.2057617572947047, 0.6741530142468641, 0.4329501211003163], 'output': 0.7878693390539813, 'delta': -0.13167758245610536}, {'weights': [0.1941186449851896, 0.10442422284151531, 0.6659575282786826, 0.29607267308315155], 'output': 0.7256152699025122, 'delta': 0.05462938239314976}, {'weights': [0.4997999222368016, 0.3253456548759963, 0.8716215074235552, 0.8996782696347811], 'output': 0.8931148815227459, 'delta': -0.08525736277276522}]\n"
          ],
          "name": "stdout"
        }
      ]
    },
    {
      "cell_type": "code",
      "metadata": {
        "id": "7UCpkV1IkVhu"
      },
      "source": [
        ""
      ],
      "execution_count": null,
      "outputs": []
    }
  ]
}